{
 "cells": [
  {
   "cell_type": "markdown",
   "id": "36bcbf97",
   "metadata": {},
   "source": [
    "# New Relic ML Performance Monitoring- Bring Your Own Data\n",
    "\n",
    "[ml-performance-monitoring](https://github.com/newrelic-experimental/ml-performance-monitoring) provides a Python library for sending machine learning models' inference data and performance metrics into New Relic. \n",
    "<br>\n",
    "By using this package, you can easily and quickly monitor your model, directly from a Jupyter notebook or a cloud service. \n",
    "<br>\n",
    "The package is ML framework agnostic and can be quickly integrated. It is based on the newrelic-telemetry-sdk-python library.\n",
    "<br>\n",
    "It is based on the [newrelic-telemetry-sdk-python](https://github.com/newrelic/newrelic-telemetry-sdk-python) library.\n",
    "\n",
    "\n",
    "This notebook provides an example of sending inference data and metrics of an XGBoost model\n",
    "\n",
    "<U>Note</U>- this notebook uses the libraries:\n",
    "* numpy\n",
    "* pandas\n",
    "* sklearn\n",
    "* xgboost"
   ]
  },
  {
   "cell_type": "markdown",
   "id": "77eda1c8",
   "metadata": {},
   "source": [
    "### 0. Install libraries"
   ]
  },
  {
   "cell_type": "code",
   "execution_count": 1,
   "id": "e984c34f",
   "metadata": {},
   "outputs": [
    {
     "name": "stdout",
     "output_type": "stream",
     "text": [
      "Collecting git+https://github.com/newrelic-experimental/ml-performance-monitoring.git\n",
      "  Cloning https://github.com/newrelic-experimental/ml-performance-monitoring.git to /private/var/folders/6d/hcf5sfg96y35s_53wj6qts580000gn/T/pip-req-build-80mngi71\n",
      "  Running command git clone --filter=blob:none -q https://github.com/newrelic-experimental/ml-performance-monitoring.git /private/var/folders/6d/hcf5sfg96y35s_53wj6qts580000gn/T/pip-req-build-80mngi71\n",
      "  Resolved https://github.com/newrelic-experimental/ml-performance-monitoring.git to commit e973940638c5d0891e87d7e26e69f1e55846937d\n",
      "  Installing build dependencies ... \u001b[?25ldone\n",
      "\u001b[?25h  Getting requirements to build wheel ... \u001b[?25ldone\n",
      "\u001b[?25h  Preparing metadata (pyproject.toml) ... \u001b[?25ldone\n",
      "\u001b[?25hRequirement already satisfied: numpy in /Users/ykriger/.pyenv/versions/3.9.9/lib/python3.9/site-packages (from ml-performance-monitoring==0.1.5) (1.21.4)\n",
      "Collecting newrelic-telemetry-sdk<0.5.0,>=0.4.2\n",
      "  Downloading newrelic_telemetry_sdk-0.4.3-py2.py3-none-any.whl (23 kB)\n",
      "Requirement already satisfied: urllib3<2,>=1.7 in /Users/ykriger/.pyenv/versions/3.9.9/lib/python3.9/site-packages (from newrelic-telemetry-sdk<0.5.0,>=0.4.2->ml-performance-monitoring==0.1.5) (1.26.7)\n",
      "Building wheels for collected packages: ml-performance-monitoring\n",
      "  Building wheel for ml-performance-monitoring (pyproject.toml) ... \u001b[?25ldone\n",
      "\u001b[?25h  Created wheel for ml-performance-monitoring: filename=ml_performance_monitoring-0.1.5-py3-none-any.whl size=11381 sha256=116b19a1e61c3001ad123c70e3b56ae285760acc020d66bae9ab2073cafc3c05\n",
      "  Stored in directory: /private/var/folders/6d/hcf5sfg96y35s_53wj6qts580000gn/T/pip-ephem-wheel-cache-ve_3pney/wheels/82/a6/c3/c2501e101a1ee2d9c069fb932d41659bf674e7c4067ee6080d\n",
      "Successfully built ml-performance-monitoring\n",
      "Installing collected packages: newrelic-telemetry-sdk, ml-performance-monitoring\n",
      "Successfully installed ml-performance-monitoring-0.1.5 newrelic-telemetry-sdk-0.4.3\n",
      "\u001b[33mWARNING: You are using pip version 21.3.1; however, version 22.2.2 is available.\n",
      "You should consider upgrading via the '/Users/ykriger/.pyenv/versions/3.9.9/bin/python3.9 -m pip install --upgrade pip' command.\u001b[0m\n"
     ]
    }
   ],
   "source": [
    "!pip install git+https://github.com/newrelic-experimental/ml-performance-monitoring.git"
   ]
  },
  {
   "cell_type": "code",
   "execution_count": 15,
   "id": "41d4b494",
   "metadata": {},
   "outputs": [],
   "source": [
    "%%capture\n",
    "!pip install numpy==1.21.4 pandas==1.3.5 scikit-learn==1.0.2 xgboost"
   ]
  },
  {
   "cell_type": "markdown",
   "id": "1e65b6a8",
   "metadata": {},
   "source": [
    "### 1. Import libraries"
   ]
  },
  {
   "cell_type": "code",
   "execution_count": 16,
   "id": "e2275faa",
   "metadata": {},
   "outputs": [],
   "source": [
    "import numpy as np\n",
    "import pandas as pd\n",
    "import xgboost as xgb\n",
    "from sklearn.metrics import mean_squared_error\n",
    "\n",
    "from ml_performance_monitoring.monitor import MLPerformanceMonitoring"
   ]
  },
  {
   "cell_type": "markdown",
   "id": "5829e9a7",
   "metadata": {},
   "source": [
    "### 2. Load the Boston housing prices dataset and split it into train and test sets"
   ]
  },
  {
   "cell_type": "code",
   "execution_count": 17,
   "id": "06308232",
   "metadata": {
    "tags": []
   },
   "outputs": [
    {
     "name": "stderr",
     "output_type": "stream",
     "text": [
      "/Users/ykriger/.pyenv/versions/3.9.9/lib/python3.9/site-packages/sklearn/utils/deprecation.py:87: FutureWarning: Function load_boston is deprecated; `load_boston` is deprecated in 1.0 and will be removed in 1.2.\n",
      "\n",
      "    The Boston housing prices dataset has an ethical problem. You can refer to\n",
      "    the documentation of this function for further details.\n",
      "\n",
      "    The scikit-learn maintainers therefore strongly discourage the use of this\n",
      "    dataset unless the purpose of the code is to study and educate about\n",
      "    ethical issues in data science and machine learning.\n",
      "\n",
      "    In this special case, you can fetch the dataset from the original\n",
      "    source::\n",
      "\n",
      "        import pandas as pd\n",
      "        import numpy as np\n",
      "\n",
      "\n",
      "        data_url = \"http://lib.stat.cmu.edu/datasets/boston\"\n",
      "        raw_df = pd.read_csv(data_url, sep=\"\\s+\", skiprows=22, header=None)\n",
      "        data = np.hstack([raw_df.values[::2, :], raw_df.values[1::2, :2]])\n",
      "        target = raw_df.values[1::2, 2]\n",
      "\n",
      "    Alternative datasets include the California housing dataset (i.e.\n",
      "    :func:`~sklearn.datasets.fetch_california_housing`) and the Ames housing\n",
      "    dataset. You can load the datasets as follows::\n",
      "\n",
      "        from sklearn.datasets import fetch_california_housing\n",
      "        housing = fetch_california_housing()\n",
      "\n",
      "    for the California housing dataset and::\n",
      "\n",
      "        from sklearn.datasets import fetch_openml\n",
      "        housing = fetch_openml(name=\"house_prices\", as_frame=True)\n",
      "\n",
      "    for the Ames housing dataset.\n",
      "    \n",
      "  warnings.warn(msg, category=FutureWarning)\n"
     ]
    }
   ],
   "source": [
    "from sklearn.datasets import load_boston\n",
    "from sklearn.model_selection import train_test_split\n",
    "\n",
    "boston_dataset = load_boston()\n",
    "X, y = (\n",
    "    boston_dataset[\"data\"],\n",
    "    boston_dataset[\"target\"],\n",
    ")\n",
    "X_train, X_test, y_train, y_test = train_test_split(\n",
    "    X, y, test_size=0.2, random_state=123\n",
    ")"
   ]
  },
  {
   "cell_type": "code",
   "execution_count": 18,
   "id": "f4f21208-2123-423b-a14c-78d6a88c3076",
   "metadata": {},
   "outputs": [
    {
     "name": "stdout",
     "output_type": "stream",
     "text": [
      "[[3.51000e-02 9.50000e+01 2.68000e+00 0.00000e+00 4.16100e-01 7.85300e+00\n",
      "  3.32000e+01 5.11800e+00 4.00000e+00 2.24000e+02 1.47000e+01 3.92780e+02\n",
      "  3.81000e+00]\n",
      " [9.72418e+00 0.00000e+00 1.81000e+01 0.00000e+00 7.40000e-01 6.40600e+00\n",
      "  9.72000e+01 2.06510e+00 2.40000e+01 6.66000e+02 2.02000e+01 3.85960e+02\n",
      "  1.95200e+01]\n",
      " [1.39140e-01 0.00000e+00 4.05000e+00 0.00000e+00 5.10000e-01 5.57200e+00\n",
      "  8.85000e+01 2.59610e+00 5.00000e+00 2.96000e+02 1.66000e+01 3.96900e+02\n",
      "  1.46900e+01]\n",
      " [1.22040e-01 0.00000e+00 2.89000e+00 0.00000e+00 4.45000e-01 6.62500e+00\n",
      "  5.78000e+01 3.49520e+00 2.00000e+00 2.76000e+02 1.80000e+01 3.57980e+02\n",
      "  6.65000e+00]\n",
      " [1.36000e-02 7.50000e+01 4.00000e+00 0.00000e+00 4.10000e-01 5.88800e+00\n",
      "  4.76000e+01 7.31970e+00 3.00000e+00 4.69000e+02 2.11000e+01 3.96900e+02\n",
      "  1.48000e+01]] [48.5 17.1 23.1 28.4 18.9]\n"
     ]
    }
   ],
   "source": [
    "print(X_train[:5], y_train[:5])"
   ]
  },
  {
   "cell_type": "markdown",
   "id": "2e6a6dfd",
   "metadata": {},
   "source": [
    "### 3. Fitting XGBoost regression model\n",
    "\n"
   ]
  },
  {
   "cell_type": "code",
   "execution_count": 19,
   "id": "2107be0d",
   "metadata": {},
   "outputs": [
    {
     "name": "stdout",
     "output_type": "stream",
     "text": [
      "[16:20:41] WARNING: /Users/runner/work/xgboost/xgboost/python-package/build/temp.macosx-10.9-x86_64-cpython-37/xgboost/src/objective/regression_obj.cu:203: reg:linear is now deprecated in favor of reg:squarederror.\n"
     ]
    },
    {
     "data": {
      "text/plain": [
       "XGBRegressor(alpha=10, base_score=0.5, booster='gbtree', callbacks=None,\n",
       "             colsample_bylevel=1, colsample_bynode=1, colsample_bytree=0.3,\n",
       "             early_stopping_rounds=None, enable_categorical=False,\n",
       "             eval_metric=None, gamma=0, gpu_id=-1, grow_policy='depthwise',\n",
       "             importance_type=None, interaction_constraints='',\n",
       "             learning_rate=0.1, max_bin=256, max_cat_to_onehot=4,\n",
       "             max_delta_step=0, max_depth=5, max_leaves=0, min_child_weight=1,\n",
       "             missing=nan, monotone_constraints='()', n_estimators=10, n_jobs=0,\n",
       "             num_parallel_tree=1, objective='reg:linear', predictor='auto',\n",
       "             random_state=0, ...)"
      ]
     },
     "execution_count": 19,
     "metadata": {},
     "output_type": "execute_result"
    }
   ],
   "source": [
    "xg_reg = xgb.XGBRegressor(\n",
    "    objective=\"reg:linear\",\n",
    "    colsample_bytree=0.3,\n",
    "    learning_rate=0.1,\n",
    "    max_depth=5,\n",
    "    alpha=10,\n",
    "    n_estimators=10,\n",
    ")\n",
    "xg_reg.fit(X_train, y_train)"
   ]
  },
  {
   "cell_type": "markdown",
   "id": "4531cc2b",
   "metadata": {},
   "source": [
    "### 4. Predicting the test set results"
   ]
  },
  {
   "cell_type": "code",
   "execution_count": 20,
   "id": "f505f688",
   "metadata": {},
   "outputs": [
    {
     "data": {
      "text/plain": [
       "array([ 9.107417 , 17.003168 , 23.554592 , 11.127839 , 18.847708 ,\n",
       "       14.83594  , 17.920063 ,  7.8613553, 12.147531 , 18.064953 ,\n",
       "       18.074614 , 14.411147 , 11.660895 , 15.656607 , 14.011221 ,\n",
       "       14.031893 , 14.247164 , 23.057888 , 13.79595  , 11.450888 ,\n",
       "       12.218057 , 15.310874 , 20.628437 , 23.554592 , 15.16144  ,\n",
       "       13.139177 , 11.691522 , 15.382896 , 15.382896 , 11.007488 ,\n",
       "       14.734173 , 18.862646 ,  8.471523 , 15.349405 , 15.463427 ,\n",
       "       19.77869  , 15.875313 ,  9.95701  , 12.919248 , 23.60624  ,\n",
       "       18.295853 , 12.589657 , 14.179869 , 21.97658  , 12.664099 ,\n",
       "       16.489174 , 14.038502 , 15.660043 , 12.919248 , 14.453838 ,\n",
       "       18.862646 , 17.252022 , 14.038502 ,  7.9073224, 14.332668 ,\n",
       "       10.871179 , 10.826269 ,  8.5319   , 19.534363 ,  8.196141 ,\n",
       "       12.403829 , 14.235118 , 10.42806  , 13.162136 , 14.247164 ,\n",
       "       15.931118 , 16.565668 ,  9.804545 , 14.915205 , 18.295853 ,\n",
       "       13.15519  , 15.318869 , 12.919248 , 16.430174 , 11.854328 ,\n",
       "       12.32626  , 11.756507 , 14.426096 , 18.501059 ,  9.180772 ,\n",
       "       19.065006 ,  8.588221 , 15.463427 , 14.011221 , 12.898891 ,\n",
       "       15.079189 , 11.267364 , 15.272911 , 14.247164 , 19.482258 ,\n",
       "        9.210783 , 18.699503 , 13.79595  , 15.878302 , 19.92443  ,\n",
       "       17.05043  , 11.450888 , 20.330242 , 16.072117 , 20.87532  ,\n",
       "       14.714855 , 11.429612 ], dtype=float32)"
      ]
     },
     "execution_count": 20,
     "metadata": {},
     "output_type": "execute_result"
    }
   ],
   "source": [
    "y_pred = xg_reg.predict(X_test)\n",
    "y_pred"
   ]
  },
  {
   "cell_type": "markdown",
   "id": "fddebfbb",
   "metadata": {},
   "source": [
    "### 5. Record inference data to New Relic\n",
    "<b> You have two options for sending your model's inference data (features and predictions) to New Relic: </b>\n",
    "<br> 1. \"Online\" instrumentation - sending the data while the model is being invoked in production\n",
    "<br> 2. \"Offline\" instrumentation - sending the data as a dataset (as an np.array or pandas dataframe) \n",
    "\n",
    "<b>   The MLPerformanceMonitoring object requires the following parameters: </b>\n",
    "<br> 1. <b>model_name</b> - must be unique per model\n",
    "<br> 2. <b>New Relic License key </b>, also referenced as ingest - license. Get your key here, [for more details and instructions](https://docs.newrelic.com/docs/apis/intro-apis/new-relic-api-keys/#insights-insert-key), set it as the following environment variable: NEW_RELIC_INSERT_KEY <br>\n",
    "Optional parameters:\n",
    "<br> \n",
    "3. <b>metadata</b> (dictionary) - will be added to each event (row) of the data \n",
    "<br>\n",
    "4. <b>send_data_metrics </b>(boolean) - send data metrics (statistics) to New Relic (False as default)\n",
    "<br> \n",
    "5. <b>features_columns</b> (list) - the features' names ordered as X columns. On New Relic data, the names will be prefixed with the string 'feature_'\n",
    "<br>\n",
    "6. <b> labels_columns</b> (list) - the labels' names ordered as y columns. On New Relic data, the names will be prefixed with the string 'label_'\n",
    "<br> (note: The parameters features_columns and labels_columns are only relevant when sending the data as an np.array. When the data is sent as a dataframe, the dataframes (X,y) columns' names will be taken as features and labels names respectively. In addition, if you send your data as an np.array without sending the features_columns and labels_columns, on New Relic data, the names will appear as \"feature_{n}\" and \"lablel_{n}\" numbered by the features/labels order)\n"
   ]
  },
  {
   "cell_type": "code",
   "execution_count": 6,
   "id": "532ae6a0",
   "metadata": {},
   "outputs": [],
   "source": [
    "metadata = {\"environment\": \"aws\", \"dataset\": \"Boston housing prices\", \"version\": \"1.0\"}\n",
    "features_columns, labels_columns = (\n",
    "    list(boston_dataset[\"feature_names\"]),\n",
    "    [\"target\"],\n",
    ")"
   ]
  },
  {
   "cell_type": "markdown",
   "id": "7534e68c",
   "metadata": {},
   "source": [
    "<b> 5.1.  \"Online\" instrumentation </b>\n",
    "<br>\n",
    "The wrap_model function extends the model/pipeline methods with the functionality of sending the inference data as [custom event](https://docs.newrelic.com/docs/data-apis/ingest-apis/introduction-event-api/) named \"InferenceData\" to New Relic NRDB.\n",
    "Wrap your model or pipeline by sending it as a parameter and then use it (the return value) as usual (fit, predict, etc.). Your inference data and data metrics will be sent automatically."
   ]
  },
  {
   "cell_type": "code",
   "execution_count": null,
   "id": "e5a6535b",
   "metadata": {},
   "outputs": [],
   "source": [
    "ml_performence_monitor_model = wrap_model(\n",
    "    insert_key=None,  # set the environment variable NEW_RELIC_INSERT_KEY or send your insert key here\n",
    "    model=xg_reg,\n",
    "    model_name=\"XGBoost Regression on Boston Dataset\",\n",
    "    metadata=metadata,\n",
    "    send_data_metrics=True,\n",
    "    features_columns=features_columns,\n",
    "    labels_columns=labels_columns,\n",
    "    label_type=\"numeric\",\n",
    ")\n",
    "\n",
    "y_pred = ml_performence_monitor_model.predict(\n",
    "    X=X_test,\n",
    ")"
   ]
  },
  {
   "cell_type": "markdown",
   "id": "1688c6aa",
   "metadata": {},
   "source": [
    "<b> 5.2.  \"Offline\" instrumentation </b>\n",
    "<br>\n",
    "Define an MLPerformanceMonitoring object and send your inference data and data metrics as an np.array or as a pandas dataframe."
   ]
  },
  {
   "cell_type": "code",
   "execution_count": null,
   "id": "c1cd712d",
   "metadata": {},
   "outputs": [],
   "source": [
    "ml_monitor = MLPerformanceMonitoring(\n",
    "    insert_key=None,  # set the environment variable NEW_RELIC_INSERT_KEY or send your insert key here,\n",
    "    model_name=\"XGBoost Regression on Boston Dataset\",\n",
    "    metadata=metadata,\n",
    "    send_data_metrics=True,\n",
    "    features_columns=features_columns,\n",
    "    labels_columns=labels_columns,\n",
    "    label_type=\"numeric\",\n",
    ")"
   ]
  },
  {
   "cell_type": "markdown",
   "id": "3264a3a2",
   "metadata": {},
   "source": [
    "<b> 5.2.1  Send your features and predictions as an np.array. </b> "
   ]
  },
  {
   "cell_type": "code",
   "execution_count": null,
   "id": "afbbb509",
   "metadata": {},
   "outputs": [],
   "source": [
    "ml_monitor.record_inference_data(X=X_test, y=y_pred)"
   ]
  },
  {
   "cell_type": "markdown",
   "id": "dea28209",
   "metadata": {
    "jupyter": {
     "outputs_hidden": true
    },
    "tags": []
   },
   "source": [
    "<b> 5.2.2  Send your features and prediction as a pd.DataFrame. <br>  "
   ]
  },
  {
   "cell_type": "code",
   "execution_count": 10,
   "id": "49231f6b",
   "metadata": {},
   "outputs": [
    {
     "data": {
      "text/html": [
       "<div>\n",
       "<style scoped>\n",
       "    .dataframe tbody tr th:only-of-type {\n",
       "        vertical-align: middle;\n",
       "    }\n",
       "\n",
       "    .dataframe tbody tr th {\n",
       "        vertical-align: top;\n",
       "    }\n",
       "\n",
       "    .dataframe thead th {\n",
       "        text-align: right;\n",
       "    }\n",
       "</style>\n",
       "<table border=\"1\" class=\"dataframe\">\n",
       "  <thead>\n",
       "    <tr style=\"text-align: right;\">\n",
       "      <th></th>\n",
       "      <th>CRIM</th>\n",
       "      <th>ZN</th>\n",
       "      <th>INDUS</th>\n",
       "      <th>CHAS</th>\n",
       "      <th>NOX</th>\n",
       "      <th>RM</th>\n",
       "      <th>AGE</th>\n",
       "      <th>DIS</th>\n",
       "      <th>RAD</th>\n",
       "      <th>TAX</th>\n",
       "      <th>PTRATIO</th>\n",
       "      <th>B</th>\n",
       "      <th>LSTAT</th>\n",
       "    </tr>\n",
       "  </thead>\n",
       "  <tbody>\n",
       "    <tr>\n",
       "      <th>0</th>\n",
       "      <td>51.13580</td>\n",
       "      <td>0.0</td>\n",
       "      <td>18.10</td>\n",
       "      <td>0.0</td>\n",
       "      <td>0.5970</td>\n",
       "      <td>5.757</td>\n",
       "      <td>100.0</td>\n",
       "      <td>1.4130</td>\n",
       "      <td>24.0</td>\n",
       "      <td>666.0</td>\n",
       "      <td>20.2</td>\n",
       "      <td>2.60</td>\n",
       "      <td>10.11</td>\n",
       "    </tr>\n",
       "    <tr>\n",
       "      <th>1</th>\n",
       "      <td>0.05735</td>\n",
       "      <td>0.0</td>\n",
       "      <td>4.49</td>\n",
       "      <td>0.0</td>\n",
       "      <td>0.4490</td>\n",
       "      <td>6.630</td>\n",
       "      <td>56.1</td>\n",
       "      <td>4.4377</td>\n",
       "      <td>3.0</td>\n",
       "      <td>247.0</td>\n",
       "      <td>18.5</td>\n",
       "      <td>392.30</td>\n",
       "      <td>6.53</td>\n",
       "    </tr>\n",
       "    <tr>\n",
       "      <th>2</th>\n",
       "      <td>0.03578</td>\n",
       "      <td>20.0</td>\n",
       "      <td>3.33</td>\n",
       "      <td>0.0</td>\n",
       "      <td>0.4429</td>\n",
       "      <td>7.820</td>\n",
       "      <td>64.5</td>\n",
       "      <td>4.6947</td>\n",
       "      <td>5.0</td>\n",
       "      <td>216.0</td>\n",
       "      <td>14.9</td>\n",
       "      <td>387.31</td>\n",
       "      <td>3.76</td>\n",
       "    </tr>\n",
       "    <tr>\n",
       "      <th>3</th>\n",
       "      <td>12.04820</td>\n",
       "      <td>0.0</td>\n",
       "      <td>18.10</td>\n",
       "      <td>0.0</td>\n",
       "      <td>0.6140</td>\n",
       "      <td>5.648</td>\n",
       "      <td>87.6</td>\n",
       "      <td>1.9512</td>\n",
       "      <td>24.0</td>\n",
       "      <td>666.0</td>\n",
       "      <td>20.2</td>\n",
       "      <td>291.55</td>\n",
       "      <td>14.10</td>\n",
       "    </tr>\n",
       "    <tr>\n",
       "      <th>4</th>\n",
       "      <td>0.03150</td>\n",
       "      <td>95.0</td>\n",
       "      <td>1.47</td>\n",
       "      <td>0.0</td>\n",
       "      <td>0.4030</td>\n",
       "      <td>6.975</td>\n",
       "      <td>15.3</td>\n",
       "      <td>7.6534</td>\n",
       "      <td>3.0</td>\n",
       "      <td>402.0</td>\n",
       "      <td>17.0</td>\n",
       "      <td>396.90</td>\n",
       "      <td>4.56</td>\n",
       "    </tr>\n",
       "  </tbody>\n",
       "</table>\n",
       "</div>"
      ],
      "text/plain": [
       "       CRIM    ZN  INDUS  CHAS     NOX     RM    AGE     DIS   RAD    TAX  \\\n",
       "0  51.13580   0.0  18.10   0.0  0.5970  5.757  100.0  1.4130  24.0  666.0   \n",
       "1   0.05735   0.0   4.49   0.0  0.4490  6.630   56.1  4.4377   3.0  247.0   \n",
       "2   0.03578  20.0   3.33   0.0  0.4429  7.820   64.5  4.6947   5.0  216.0   \n",
       "3  12.04820   0.0  18.10   0.0  0.6140  5.648   87.6  1.9512  24.0  666.0   \n",
       "4   0.03150  95.0   1.47   0.0  0.4030  6.975   15.3  7.6534   3.0  402.0   \n",
       "\n",
       "   PTRATIO       B  LSTAT  \n",
       "0     20.2    2.60  10.11  \n",
       "1     18.5  392.30   6.53  \n",
       "2     14.9  387.31   3.76  \n",
       "3     20.2  291.55  14.10  \n",
       "4     17.0  396.90   4.56  "
      ]
     },
     "execution_count": 10,
     "metadata": {},
     "output_type": "execute_result"
    }
   ],
   "source": [
    "X_df = pd.DataFrame(\n",
    "    list(map(np.ravel, X_test)),\n",
    "    columns=features_columns,\n",
    ")\n",
    "\n",
    "y_pred_df = pd.DataFrame(\n",
    "    list(map(np.ravel, y_pred)),\n",
    "    columns=labels_columns,\n",
    ")\n",
    "X_df.head()"
   ]
  },
  {
   "cell_type": "code",
   "execution_count": null,
   "id": "ddcd49ab-8a39-4218-a137-5abcc8a7f7c3",
   "metadata": {},
   "outputs": [],
   "source": [
    "ml_monitor.record_inference_data(X=X_df, y=y_pred_df)"
   ]
  },
  {
   "cell_type": "code",
   "execution_count": 12,
   "id": "c7e59ebc",
   "metadata": {},
   "outputs": [
    {
     "data": {
      "text/html": [
       "<div>\n",
       "<style scoped>\n",
       "    .dataframe tbody tr th:only-of-type {\n",
       "        vertical-align: middle;\n",
       "    }\n",
       "\n",
       "    .dataframe tbody tr th {\n",
       "        vertical-align: top;\n",
       "    }\n",
       "\n",
       "    .dataframe thead th {\n",
       "        text-align: right;\n",
       "    }\n",
       "</style>\n",
       "<table border=\"1\" class=\"dataframe\">\n",
       "  <thead>\n",
       "    <tr style=\"text-align: right;\">\n",
       "      <th></th>\n",
       "      <th>label_target</th>\n",
       "    </tr>\n",
       "  </thead>\n",
       "  <tbody>\n",
       "    <tr>\n",
       "      <th>0</th>\n",
       "      <td>9.107417</td>\n",
       "    </tr>\n",
       "    <tr>\n",
       "      <th>1</th>\n",
       "      <td>17.003168</td>\n",
       "    </tr>\n",
       "    <tr>\n",
       "      <th>2</th>\n",
       "      <td>23.554592</td>\n",
       "    </tr>\n",
       "    <tr>\n",
       "      <th>3</th>\n",
       "      <td>11.127839</td>\n",
       "    </tr>\n",
       "    <tr>\n",
       "      <th>4</th>\n",
       "      <td>18.847708</td>\n",
       "    </tr>\n",
       "  </tbody>\n",
       "</table>\n",
       "</div>"
      ],
      "text/plain": [
       "   label_target\n",
       "0      9.107417\n",
       "1     17.003168\n",
       "2     23.554592\n",
       "3     11.127839\n",
       "4     18.847708"
      ]
     },
     "execution_count": 12,
     "metadata": {},
     "output_type": "execute_result"
    }
   ],
   "source": [
    "y_pred_df.head()"
   ]
  },
  {
   "cell_type": "markdown",
   "id": "45c5f850",
   "metadata": {},
   "source": [
    "### 6. Record metrics to New Relic\n",
    "You can stream custom metrics to New Relic, monitoring your model performance or model data. These metrics will be sent to NRDB as [metric data](https://docs.newrelic.com/docs/data-apis/ingest-apis/metric-api/introduction-metric-api/)."
   ]
  },
  {
   "cell_type": "code",
   "execution_count": 13,
   "id": "c2f04d4b",
   "metadata": {},
   "outputs": [
    {
     "name": "stdout",
     "output_type": "stream",
     "text": [
      "RMSE: 10.517\n"
     ]
    }
   ],
   "source": [
    "rmse = round(np.sqrt(mean_squared_error(y_test, y_pred)), 3)\n",
    "print(f\"RMSE: {rmse}\")"
   ]
  },
  {
   "cell_type": "code",
   "execution_count": null,
   "id": "8de97d52",
   "metadata": {
    "tags": []
   },
   "outputs": [],
   "source": [
    "metrics = {\n",
    "    \"RMSE\": rmse,\n",
    "}\n",
    "ml_monitor.record_metrics(metrics=metrics)"
   ]
  }
 ],
 "metadata": {
  "kernelspec": {
   "display_name": "Python 3.9.9 64-bit ('3.9.9')",
   "language": "python",
   "name": "python3"
  },
  "language_info": {
   "codemirror_mode": {
    "name": "ipython",
    "version": 3
   },
   "file_extension": ".py",
   "mimetype": "text/x-python",
   "name": "python",
   "nbconvert_exporter": "python",
   "pygments_lexer": "ipython3",
   "version": "3.9.9"
  },
  "vscode": {
   "interpreter": {
    "hash": "6baa9940c7cd63c4fa854c49cfb5a091cb515bf70f7ca50461f374f46a311c48"
   }
  }
 },
 "nbformat": 4,
 "nbformat_minor": 5
}
